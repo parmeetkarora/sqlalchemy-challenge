{
 "cells": [
  {
   "cell_type": "code",
   "execution_count": 124,
   "metadata": {},
   "outputs": [],
   "source": [
    "%matplotlib inline\n",
    "from matplotlib import style\n",
    "style.use('fivethirtyeight')\n",
    "import matplotlib.pyplot as plt"
   ]
  },
  {
   "cell_type": "code",
   "execution_count": 125,
   "metadata": {},
   "outputs": [],
   "source": [
    "import numpy as np\n",
    "import pandas as pd\n",
    "import datetime as dt"
   ]
  },
  {
   "cell_type": "markdown",
   "metadata": {},
   "source": [
    "# Reflect Tables into SQLAlchemy ORM"
   ]
  },
  {
   "cell_type": "code",
   "execution_count": 126,
   "metadata": {},
   "outputs": [],
   "source": [
    "# Python SQL toolkit and Object Relational Mapper\n",
    "import sqlalchemy\n",
    "from sqlalchemy.ext.automap import automap_base\n",
    "from sqlalchemy.orm import Session\n",
    "from sqlalchemy import create_engine, func"
   ]
  },
  {
   "cell_type": "code",
   "execution_count": 17,
   "metadata": {},
   "outputs": [],
   "source": [
    "# create engine to hawaii.sqlite\n",
    "engine = create_engine(\"sqlite:///Resources/hawaii.sqlite\")"
   ]
  },
  {
   "cell_type": "code",
   "execution_count": 127,
   "metadata": {},
   "outputs": [
    {
     "name": "stderr",
     "output_type": "stream",
     "text": [
      "C:\\Users\\parme\\AppData\\Local\\Temp\\ipykernel_24564\\1526636886.py:5: SADeprecationWarning: The AutomapBase.prepare.reflect parameter is deprecated and will be removed in a future release.  Reflection is enabled when AutomapBase.prepare.autoload_with is passed.\n",
      "  Base.prepare(engine, reflect=True)\n"
     ]
    }
   ],
   "source": [
    "# reflect an existing database into a new model\n",
    "Base = automap_base()\n",
    "\n",
    "# reflect the tables\n",
    "Base.prepare(engine, reflect=True)\n"
   ]
  },
  {
   "cell_type": "code",
   "execution_count": 128,
   "metadata": {},
   "outputs": [
    {
     "data": {
      "text/plain": [
       "['station', 'measurement']"
      ]
     },
     "execution_count": 128,
     "metadata": {},
     "output_type": "execute_result"
    }
   ],
   "source": [
    "# View all of the classes that automap found\n",
    "Base.classes.keys()"
   ]
  },
  {
   "cell_type": "code",
   "execution_count": 129,
   "metadata": {},
   "outputs": [],
   "source": [
    "# Save references to each table\n",
    "Station = Base.classes.station\n",
    "Measurement = Base.classes.measurement\n"
   ]
  },
  {
   "cell_type": "code",
   "execution_count": 130,
   "metadata": {},
   "outputs": [],
   "source": [
    "# Create our session (link) from Python to the DB\n",
    "session = Session(engine)\n"
   ]
  },
  {
   "cell_type": "markdown",
   "metadata": {},
   "source": [
    "# Exploratory Precipitation Analysis"
   ]
  },
  {
   "cell_type": "code",
   "execution_count": 131,
   "metadata": {},
   "outputs": [
    {
     "name": "stdout",
     "output_type": "stream",
     "text": [
      "('2017-08-23',)\n"
     ]
    }
   ],
   "source": [
    "# Find the most recent date in the data set.\n",
    "recent_date = session.query(Measurement.date).order_by(Measurement.date.desc()).first()\n",
    "print(recent_date)"
   ]
  },
  {
   "cell_type": "code",
   "execution_count": 132,
   "metadata": {},
   "outputs": [
    {
     "name": "stdout",
     "output_type": "stream",
     "text": [
      "Most Recent Date: 2017-08-23\n"
     ]
    }
   ],
   "source": [
    "# Starting from the most recent data point in the database. \n",
    "# Query to find the most recent date in the 'date' column of the 'Measurement' table\n",
    "query_most_recent_date = \"SELECT MAX(date) AS most_recent_date FROM Measurement\"\n",
    "\n",
    "# Execute the query to find the most recent date\n",
    "df_most_recent_date = pd.read_sql(query_most_recent_date, engine)\n",
    "\n",
    "# Display the most recent date\n",
    "most_recent_date = df_most_recent_date['most_recent_date'].iloc[0]\n",
    "print(\"Most Recent Date:\", most_recent_date)"
   ]
  },
  {
   "cell_type": "code",
   "execution_count": 133,
   "metadata": {},
   "outputs": [
    {
     "name": "stdout",
     "output_type": "stream",
     "text": [
      "  one_year_ago_date\n",
      "0        2016-08-23\n"
     ]
    }
   ],
   "source": [
    "# Query to calculate the date one year before the maximum date in the 'date' column\n",
    "query_one_year_ago_date = \"\"\"\n",
    "    SELECT DATE(MAX(date), '-1 year') AS one_year_ago_date\n",
    "    FROM Measurement\n",
    "\"\"\"\n",
    "\n",
    "# Execute the query and store the result in a DataFrame\n",
    "df_one_year_ago_date = pd.read_sql(query_one_year_ago_date, engine)\n",
    "\n",
    "# Display the calculated date one year ago\n",
    "print(df_one_year_ago_date)"
   ]
  },
  {
   "cell_type": "code",
   "execution_count": 135,
   "metadata": {},
   "outputs": [
    {
     "name": "stdout",
     "output_type": "stream",
     "text": [
      "            date  prcp\n",
      "0     2016-08-23  0.00\n",
      "1     2016-08-24  0.08\n",
      "2     2016-08-25  0.08\n",
      "3     2016-08-26  0.00\n",
      "4     2016-08-27  0.00\n",
      "...          ...   ...\n",
      "2225  2017-08-19  0.09\n",
      "2226  2017-08-20   NaN\n",
      "2227  2017-08-21  0.56\n",
      "2228  2017-08-22  0.50\n",
      "2229  2017-08-23  0.45\n",
      "\n",
      "[2230 rows x 2 columns]\n"
     ]
    }
   ],
   "source": [
    "# Perform a query to retrieve the data and precipitation scores for the last 12 months\n",
    "query_last_12_months = \"\"\"\n",
    "    SELECT date, prcp\n",
    "    FROM Measurement\n",
    "    WHERE date >= (SELECT DATE(MAX(date), '-1 year') FROM Measurement)\n",
    "\"\"\"\n",
    "\n",
    "# Execute the query and store the result in a DataFrame\n",
    "df_last_12_months_data = pd.read_sql(query_last_12_months, engine)\n",
    "\n",
    "# Display the query result (data and precipitation scores for the last 12 months)\n",
    "print(df_last_12_months_data)"
   ]
  },
  {
   "cell_type": "code",
   "execution_count": 136,
   "metadata": {},
   "outputs": [
    {
     "name": "stdout",
     "output_type": "stream",
     "text": [
      "         Date  Precipitation\n",
      "0  2016-08-23           0.00\n",
      "1  2016-08-24           0.08\n",
      "2  2016-08-25           0.08\n",
      "3  2016-08-26           0.00\n",
      "4  2016-08-27           0.00\n"
     ]
    }
   ],
   "source": [
    "# Save the query results as a Pandas DataFrame. Explicitly set the column names\n",
    "# # Execute the query and store the result in a DataFrame\n",
    "df_last_12_months = pd.read_sql(query_last_12_months, engine)\n",
    "\n",
    "# Explicitly set the column names\n",
    "df_last_12_months.columns = ['Date', 'Precipitation']\n",
    "\n",
    "# Display the query result with the updated column names\n",
    "print(df_last_12_months.head())"
   ]
  },
  {
   "cell_type": "code",
   "execution_count": 137,
   "metadata": {},
   "outputs": [
    {
     "name": "stdout",
     "output_type": "stream",
     "text": [
      "            Date  Precipitation\n",
      "0     2016-08-23           0.00\n",
      "1009  2016-08-23            NaN\n",
      "1529  2016-08-23           1.79\n",
      "704   2016-08-23           0.05\n",
      "361   2016-08-23           0.15\n"
     ]
    }
   ],
   "source": [
    "# Sort the dataframe by date\n",
    "df_last_12_months_sorted = df_last_12_months.sort_values('Date')\n",
    "\n",
    "# Print the sorted DataFrame\n",
    "print(df_last_12_months_sorted.head())"
   ]
  },
  {
   "cell_type": "code",
   "execution_count": 138,
   "metadata": {},
   "outputs": [
    {
     "data": {
      "text/plain": [
       "(array([-1.,  0.,  1.,  2.,  3.,  4.,  5.,  6.,  7.,  8.]),\n",
       " [Text(0, -1.0, '−1'),\n",
       "  Text(0, 0.0, '0'),\n",
       "  Text(0, 1.0, '1'),\n",
       "  Text(0, 2.0, '2'),\n",
       "  Text(0, 3.0, '3'),\n",
       "  Text(0, 4.0, '4'),\n",
       "  Text(0, 5.0, '5'),\n",
       "  Text(0, 6.0, '6'),\n",
       "  Text(0, 7.0, '7'),\n",
       "  Text(0, 8.0, '8')])"
      ]
     },
     "execution_count": 138,
     "metadata": {},
     "output_type": "execute_result"
    },
    {
     "data": {
      "image/png": "[encoded data removed]",
      "text/plain": [
       "<Figure size 1200x600 with 1 Axes>"
      ]
     },
     "metadata": {},
     "output_type": "display_data"
    }
   ],
   "source": [
    "# Use Pandas Plotting with Matplotlib to plot the data\n",
    "\n",
    "plt.figure(figsize=(12, 6))\n",
    "plt.plot(df_last_12_months_sorted['Date'], df_last_12_months_sorted['Precipitation'], label='Precipitation')\n",
    "\n",
    "plt.legend(['Precipitation'], loc=\"upper right\",fontsize=15)\n",
    "\n",
    "# set x location\n",
    "xloc = ['2016-08-23', '2016-11-09', '2017-01-28', '2017-04-18', '2017-07-10'] \n",
    "\n",
    "# xticks\n",
    "plt.xticks(xloc, rotation='vertical',fontsize=15)\n",
    "\n",
    "# Labels\n",
    "plt.xlabel('Date', fontsize=15)\n",
    "plt.ylabel(\"Inches\",fontsize=15)\n",
    "plt.yticks(size=15)"
   ]
  },
  {
   "cell_type": "code",
   "execution_count": 139,
   "metadata": {},
   "outputs": [
    {
     "name": "stdout",
     "output_type": "stream",
     "text": [
      "count    2021.000000\n",
      "mean        0.177279\n",
      "std         0.461190\n",
      "min         0.000000\n",
      "25%         0.000000\n",
      "50%         0.020000\n",
      "75%         0.130000\n",
      "max         6.700000\n",
      "Name: Precipitation, dtype: float64\n"
     ]
    }
   ],
   "source": [
    "# Use Pandas to calculate the summary statistics for the precipitation data\n",
    "summary_statistics = df_last_12_months_sorted['Precipitation'].describe()\n",
    "print(summary_statistics)"
   ]
  },
  {
   "cell_type": "markdown",
   "metadata": {},
   "source": [
    "# Exploratory Station Analysis"
   ]
  },
  {
   "cell_type": "code",
   "execution_count": 140,
   "metadata": {},
   "outputs": [
    {
     "name": "stdout",
     "output_type": "stream",
     "text": [
      "Total number of stations: 9\n"
     ]
    }
   ],
   "source": [
    "# Design a query to calculate the total number of stations in the dataset\n",
    "total_stations = session.query(func.count(Station.station)).scalar()\n",
    "\n",
    "print(\"Total number of stations:\", total_stations)"
   ]
  },
  {
   "cell_type": "code",
   "execution_count": 141,
   "metadata": {},
   "outputs": [
    {
     "data": {
      "text/plain": [
       "[('USC00519281', 2772),\n",
       " ('USC00519397', 2724),\n",
       " ('USC00513117', 2709),\n",
       " ('USC00519523', 2669),\n",
       " ('USC00516128', 2612),\n",
       " ('USC00514830', 2202),\n",
       " ('USC00511918', 1979),\n",
       " ('USC00517948', 1372),\n",
       " ('USC00518838', 511)]"
      ]
     },
     "execution_count": 141,
     "metadata": {},
     "output_type": "execute_result"
    }
   ],
   "source": [
    "# Design a query to find the most active stations (i.e. which stations have the most rows?)\n",
    "# List the stations and their counts in descending order.\n",
    "most_active_stations = [Measurement.station, func.count(Measurement.date)]\n",
    "\n",
    "# Query to find the most active stations and their observation counts in descending order\n",
    "active_stations = session.query(*most_active_stations).\\\n",
    "    group_by(Measurement.station).\\\n",
    "    order_by(func.count(Measurement.date).desc()).all()\n",
    "\n",
    "active_stations"
   ]
  },
  {
   "cell_type": "code",
   "execution_count": 142,
   "metadata": {},
   "outputs": [],
   "source": [
    "from sqlalchemy import func\n",
    "\n"
   ]
  },
  {
   "cell_type": "code",
   "execution_count": 143,
   "metadata": {},
   "outputs": [
    {
     "name": "stdout",
     "output_type": "stream",
     "text": [
      "[(Lowest Temperature: 54.0, Highest Temperature: 85.0, Average Temperature: 71.66378066378067)]\n"
     ]
    }
   ],
   "source": [
    "# Using the most active station id from the previous query, calculate the lowest, highest, and average temperature.\n",
    "\n",
    "# Get the most active station ID from the previous query result\n",
    "most_active_station_id = active_stations[0][0]\n",
    "\n",
    "# Define the columns for the query\n",
    "sel = [func.min(Measurement.tobs), func.max(Measurement.tobs), func.avg(Measurement.tobs)]\n",
    "\n",
    "# Query to calculate the lowest, highest, and average temperature for the most active station\n",
    "results = session.query(*sel).filter(Measurement.station == most_active_station_id).all()\n",
    "\n",
    "# Extract the results\n",
    "for result in results:\n",
    "    min_temp, max_temp, avg_temp = result\n",
    "    print(f\"[(Lowest Temperature: {min_temp}, Highest Temperature: {max_temp}, Average Temperature: {avg_temp})]\")"
   ]
  },
  {
   "cell_type": "code",
   "execution_count": 144,
   "metadata": {},
   "outputs": [],
   "source": [
    "from datetime import datetime, timedelta"
   ]
  },
  {
   "cell_type": "code",
   "execution_count": 145,
   "metadata": {},
   "outputs": [
    {
     "data": {
      "text/html": [
       "<div>\n",
       "<style scoped>\n",
       "    .dataframe tbody tr th:only-of-type {\n",
       "        vertical-align: middle;\n",
       "    }\n",
       "\n",
       "    .dataframe tbody tr th {\n",
       "        vertical-align: top;\n",
       "    }\n",
       "\n",
       "    .dataframe thead th {\n",
       "        text-align: right;\n",
       "    }\n",
       "</style>\n",
       "<table border=\"1\" class=\"dataframe\">\n",
       "  <thead>\n",
       "    <tr style=\"text-align: right;\">\n",
       "      <th></th>\n",
       "      <th>Measurement Date</th>\n",
       "      <th>Temperature</th>\n",
       "    </tr>\n",
       "  </thead>\n",
       "  <tbody>\n",
       "    <tr>\n",
       "      <th>0</th>\n",
       "      <td>2016-08-23</td>\n",
       "      <td>77.0</td>\n",
       "    </tr>\n",
       "    <tr>\n",
       "      <th>1</th>\n",
       "      <td>2016-08-24</td>\n",
       "      <td>77.0</td>\n",
       "    </tr>\n",
       "    <tr>\n",
       "      <th>2</th>\n",
       "      <td>2016-08-25</td>\n",
       "      <td>80.0</td>\n",
       "    </tr>\n",
       "    <tr>\n",
       "      <th>3</th>\n",
       "      <td>2016-08-26</td>\n",
       "      <td>80.0</td>\n",
       "    </tr>\n",
       "    <tr>\n",
       "      <th>4</th>\n",
       "      <td>2016-08-27</td>\n",
       "      <td>75.0</td>\n",
       "    </tr>\n",
       "    <tr>\n",
       "      <th>5</th>\n",
       "      <td>2016-08-28</td>\n",
       "      <td>73.0</td>\n",
       "    </tr>\n",
       "    <tr>\n",
       "      <th>6</th>\n",
       "      <td>2016-08-29</td>\n",
       "      <td>78.0</td>\n",
       "    </tr>\n",
       "    <tr>\n",
       "      <th>7</th>\n",
       "      <td>2016-08-30</td>\n",
       "      <td>77.0</td>\n",
       "    </tr>\n",
       "    <tr>\n",
       "      <th>8</th>\n",
       "      <td>2016-08-31</td>\n",
       "      <td>78.0</td>\n",
       "    </tr>\n",
       "    <tr>\n",
       "      <th>9</th>\n",
       "      <td>2016-09-01</td>\n",
       "      <td>80.0</td>\n",
       "    </tr>\n",
       "    <tr>\n",
       "      <th>10</th>\n",
       "      <td>2016-09-02</td>\n",
       "      <td>80.0</td>\n",
       "    </tr>\n",
       "    <tr>\n",
       "      <th>11</th>\n",
       "      <td>2016-09-03</td>\n",
       "      <td>78.0</td>\n",
       "    </tr>\n",
       "  </tbody>\n",
       "</table>\n",
       "</div>"
      ],
      "text/plain": [
       "   Measurement Date  Temperature\n",
       "0        2016-08-23         77.0\n",
       "1        2016-08-24         77.0\n",
       "2        2016-08-25         80.0\n",
       "3        2016-08-26         80.0\n",
       "4        2016-08-27         75.0\n",
       "5        2016-08-28         73.0\n",
       "6        2016-08-29         78.0\n",
       "7        2016-08-30         77.0\n",
       "8        2016-08-31         78.0\n",
       "9        2016-09-01         80.0\n",
       "10       2016-09-02         80.0\n",
       "11       2016-09-03         78.0"
      ]
     },
     "execution_count": 145,
     "metadata": {},
     "output_type": "execute_result"
    }
   ],
   "source": [
    " #Query the last 12 months of temperature observation data for the most active station\n",
    "last_date = session.query(Measurement.date).order_by(Measurement.date.desc()).first()\n",
    "last_date = datetime.strptime(last_date[0], '%Y-%m-%d')\n",
    "one_year_ago = last_date - timedelta(days=365)\n",
    "df_one_year_ago_date = one_year_ago.strftime('%Y-%m-%d')\n",
    "\n",
    "# Query the last 12 months of temperature observation data for the most active station\n",
    "sel = [Measurement.date, Measurement.tobs]\n",
    "station_temps = session.query(*sel).\\\n",
    "    filter(Measurement.date >= df_one_year_ago_date).\\\n",
    "    filter(Measurement.station == 'USC00519281').\\\n",
    "    order_by(Measurement.date).all()\n",
    "\n",
    "# Load the results into a Pandas DataFrame\n",
    "station_temps_df = pd.DataFrame(station_temps, columns=['Measurement Date', 'Temperature'])\n",
    "\n",
    "# Display the first 12 rows of the DataFrame\n",
    "station_temps_df.head(12)"
   ]
  },
  {
   "cell_type": "code",
   "execution_count": 146,
   "metadata": {},
   "outputs": [
    {
     "data": {
      "image/png": "[encoded data removed]",
      "text/plain": [
       "<Figure size 640x480 with 1 Axes>"
      ]
     },
     "metadata": {},
     "output_type": "display_data"
    }
   ],
   "source": [
    "#plot the results as a histogram\n",
    "plt.hist(station_temps_df['Temperature'],bins=12, density=False, label=\"TOBS\")\n",
    "plt.xlabel(\"Temperature (F)\")\n",
    "plt.ylabel(\"Frequency\")\n",
    "plt.legend()\n",
    "plt.title(\"Temperature Observations at USC00519281\")\n",
    "plt.figsize=(10,7)\n",
    "plt.savefig('Annual_Temps_USC00519281.png',bbox_inches='tight')\n",
    "plt.show()\n"
   ]
  },
  {
   "cell_type": "markdown",
   "metadata": {},
   "source": [
    "# Close Session"
   ]
  },
  {
   "cell_type": "code",
   "execution_count": 147,
   "metadata": {},
   "outputs": [],
   "source": [
    "# Close Session\n",
    "session.close()"
   ]
  },
  {
   "cell_type": "code",
   "execution_count": null,
   "metadata": {},
   "outputs": [],
   "source": []
  }
 ],
 "metadata": {
  "anaconda-cloud": {},
  "kernel_info": {
   "name": "python3"
  },
  "kernelspec": {
   "display_name": "Python 3 (ipykernel)",
   "language": "python",
   "name": "python3"
  },
  "language_info": {
   "codemirror_mode": {
    "name": "ipython",
    "version": 3
   },
   "file_extension": ".py",
   "mimetype": "text/x-python",
   "name": "python",
   "nbconvert_exporter": "python",
   "pygments_lexer": "ipython3",
   "version": "3.11.7"
  },
  "nteract": {
   "version": "0.12.3"
  },
  "varInspector": {
   "cols": {
    "lenName": 16,
    "lenType": 16,
    "lenVar": 40
   },
   "kernels_config": {
    "python": {
     "delete_cmd_postfix": "",
     "delete_cmd_prefix": "del ",
     "library": "var_list.py",
     "varRefreshCmd": "print(var_dic_list())"
    },
    "r": {
     "delete_cmd_postfix": ") ",
     "delete_cmd_prefix": "rm(",
     "library": "var_list.r",
     "varRefreshCmd": "cat(var_dic_list()) "
    }
   },
   "types_to_exclude": [
    "module",
    "function",
    "builtin_function_or_method",
    "instance",
    "_Feature"
   ],
   "window_display": false
  }
 },
 "nbformat": 4,
 "nbformat_minor": 2
}
